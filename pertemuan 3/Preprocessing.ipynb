{
  "nbformat": 4,
  "nbformat_minor": 0,
  "metadata": {
    "colab": {
      "provenance": []
    },
    "kernelspec": {
      "name": "python3",
      "display_name": "Python 3"
    },
    "language_info": {
      "name": "python"
    }
  },
  "cells": [
    {
      "cell_type": "code",
      "execution_count": null,
      "metadata": {
        "id": "h-09W8VOPPl1"
      },
      "outputs": [],
      "source": [
        "import numpy as np\n",
        "import matplotlib.pyplot as plt\n",
        "import pandas as pd"
      ]
    },
    {
      "cell_type": "code",
      "source": [
        "dataset = pd.read_csv('data.csv', sep=';')\n",
        "dataset"
      ],
      "metadata": {
        "id": "xASUDfOeSYo4",
        "colab": {
          "base_uri": "https://localhost:8080/",
          "height": 467
        },
        "outputId": "ca82bd7a-0074-4e69-e69a-168850b4bbd6"
      },
      "execution_count": null,
      "outputs": [
        {
          "output_type": "execute_result",
          "data": {
            "text/plain": [
              "                                     Game  ReleaseDate  \\\n",
              "0                                  Dota 2         2013   \n",
              "1                                Fortnite         2017   \n",
              "2                          Arena of Valor         2015   \n",
              "3    PLAYERUNKNOWN'S BATTLEGROUNDS Mobile         2017   \n",
              "4           PLAYERUNKNOWN’S BATTLEGROUNDS         2017   \n",
              "..                                    ...          ...   \n",
              "624                               Pac-man         1981   \n",
              "625                   Apex Legends Mobile         2022   \n",
              "626          Ark: Survival Of The Fittest         2017   \n",
              "627                     Rules Of Survival         2017   \n",
              "628                         Knockout City         2021   \n",
              "\n",
              "                               Genre  LANEarnings  OnlineEarnings  \\\n",
              "0    Multiplayer Online Battle Arena  31187903215     28085206696   \n",
              "1                      Battle Royale  14911647191      4584213347   \n",
              "2    Multiplayer Online Battle Arena   7039242725      6637330149   \n",
              "3                      Battle Royale   6294769628      4072285932   \n",
              "4                      Battle Royale   5233920306      3887534473   \n",
              "..                               ...          ...             ...   \n",
              "624                      Puzzle Game            0               0   \n",
              "625                    Battle Royale            0               0   \n",
              "626                    Battle Royale            0               0   \n",
              "627                    Battle Royale            0               0   \n",
              "628             Third-Person Shooter            0               0   \n",
              "\n",
              "     TotalPlayers  TotalTournaments  AllEarnings  TierCompetitive  \n",
              "0            4563              1742  59273109911                1  \n",
              "1            6104              1149  19495860538                1  \n",
              "2            1842               145  13676572874                1  \n",
              "3            3423               233  10367055560                1  \n",
              "4            3517               554   9121454779                1  \n",
              "..            ...               ...          ...              ...  \n",
              "624             0                 0            0                0  \n",
              "625             0                 0            0                0  \n",
              "626             0                 0            0                0  \n",
              "627             0                 0            0                0  \n",
              "628             0                 0            0                0  \n",
              "\n",
              "[629 rows x 9 columns]"
            ],
            "text/html": [
              "\n",
              "  <div id=\"df-106b1d13-0cce-4cca-b084-bcddcb6c69f1\">\n",
              "    <div class=\"colab-df-container\">\n",
              "      <div>\n",
              "<style scoped>\n",
              "    .dataframe tbody tr th:only-of-type {\n",
              "        vertical-align: middle;\n",
              "    }\n",
              "\n",
              "    .dataframe tbody tr th {\n",
              "        vertical-align: top;\n",
              "    }\n",
              "\n",
              "    .dataframe thead th {\n",
              "        text-align: right;\n",
              "    }\n",
              "</style>\n",
              "<table border=\"1\" class=\"dataframe\">\n",
              "  <thead>\n",
              "    <tr style=\"text-align: right;\">\n",
              "      <th></th>\n",
              "      <th>Game</th>\n",
              "      <th>ReleaseDate</th>\n",
              "      <th>Genre</th>\n",
              "      <th>LANEarnings</th>\n",
              "      <th>OnlineEarnings</th>\n",
              "      <th>TotalPlayers</th>\n",
              "      <th>TotalTournaments</th>\n",
              "      <th>AllEarnings</th>\n",
              "      <th>TierCompetitive</th>\n",
              "    </tr>\n",
              "  </thead>\n",
              "  <tbody>\n",
              "    <tr>\n",
              "      <th>0</th>\n",
              "      <td>Dota 2</td>\n",
              "      <td>2013</td>\n",
              "      <td>Multiplayer Online Battle Arena</td>\n",
              "      <td>31187903215</td>\n",
              "      <td>28085206696</td>\n",
              "      <td>4563</td>\n",
              "      <td>1742</td>\n",
              "      <td>59273109911</td>\n",
              "      <td>1</td>\n",
              "    </tr>\n",
              "    <tr>\n",
              "      <th>1</th>\n",
              "      <td>Fortnite</td>\n",
              "      <td>2017</td>\n",
              "      <td>Battle Royale</td>\n",
              "      <td>14911647191</td>\n",
              "      <td>4584213347</td>\n",
              "      <td>6104</td>\n",
              "      <td>1149</td>\n",
              "      <td>19495860538</td>\n",
              "      <td>1</td>\n",
              "    </tr>\n",
              "    <tr>\n",
              "      <th>2</th>\n",
              "      <td>Arena of Valor</td>\n",
              "      <td>2015</td>\n",
              "      <td>Multiplayer Online Battle Arena</td>\n",
              "      <td>7039242725</td>\n",
              "      <td>6637330149</td>\n",
              "      <td>1842</td>\n",
              "      <td>145</td>\n",
              "      <td>13676572874</td>\n",
              "      <td>1</td>\n",
              "    </tr>\n",
              "    <tr>\n",
              "      <th>3</th>\n",
              "      <td>PLAYERUNKNOWN'S BATTLEGROUNDS Mobile</td>\n",
              "      <td>2017</td>\n",
              "      <td>Battle Royale</td>\n",
              "      <td>6294769628</td>\n",
              "      <td>4072285932</td>\n",
              "      <td>3423</td>\n",
              "      <td>233</td>\n",
              "      <td>10367055560</td>\n",
              "      <td>1</td>\n",
              "    </tr>\n",
              "    <tr>\n",
              "      <th>4</th>\n",
              "      <td>PLAYERUNKNOWN’S BATTLEGROUNDS</td>\n",
              "      <td>2017</td>\n",
              "      <td>Battle Royale</td>\n",
              "      <td>5233920306</td>\n",
              "      <td>3887534473</td>\n",
              "      <td>3517</td>\n",
              "      <td>554</td>\n",
              "      <td>9121454779</td>\n",
              "      <td>1</td>\n",
              "    </tr>\n",
              "    <tr>\n",
              "      <th>...</th>\n",
              "      <td>...</td>\n",
              "      <td>...</td>\n",
              "      <td>...</td>\n",
              "      <td>...</td>\n",
              "      <td>...</td>\n",
              "      <td>...</td>\n",
              "      <td>...</td>\n",
              "      <td>...</td>\n",
              "      <td>...</td>\n",
              "    </tr>\n",
              "    <tr>\n",
              "      <th>624</th>\n",
              "      <td>Pac-man</td>\n",
              "      <td>1981</td>\n",
              "      <td>Puzzle Game</td>\n",
              "      <td>0</td>\n",
              "      <td>0</td>\n",
              "      <td>0</td>\n",
              "      <td>0</td>\n",
              "      <td>0</td>\n",
              "      <td>0</td>\n",
              "    </tr>\n",
              "    <tr>\n",
              "      <th>625</th>\n",
              "      <td>Apex Legends Mobile</td>\n",
              "      <td>2022</td>\n",
              "      <td>Battle Royale</td>\n",
              "      <td>0</td>\n",
              "      <td>0</td>\n",
              "      <td>0</td>\n",
              "      <td>0</td>\n",
              "      <td>0</td>\n",
              "      <td>0</td>\n",
              "    </tr>\n",
              "    <tr>\n",
              "      <th>626</th>\n",
              "      <td>Ark: Survival Of The Fittest</td>\n",
              "      <td>2017</td>\n",
              "      <td>Battle Royale</td>\n",
              "      <td>0</td>\n",
              "      <td>0</td>\n",
              "      <td>0</td>\n",
              "      <td>0</td>\n",
              "      <td>0</td>\n",
              "      <td>0</td>\n",
              "    </tr>\n",
              "    <tr>\n",
              "      <th>627</th>\n",
              "      <td>Rules Of Survival</td>\n",
              "      <td>2017</td>\n",
              "      <td>Battle Royale</td>\n",
              "      <td>0</td>\n",
              "      <td>0</td>\n",
              "      <td>0</td>\n",
              "      <td>0</td>\n",
              "      <td>0</td>\n",
              "      <td>0</td>\n",
              "    </tr>\n",
              "    <tr>\n",
              "      <th>628</th>\n",
              "      <td>Knockout City</td>\n",
              "      <td>2021</td>\n",
              "      <td>Third-Person Shooter</td>\n",
              "      <td>0</td>\n",
              "      <td>0</td>\n",
              "      <td>0</td>\n",
              "      <td>0</td>\n",
              "      <td>0</td>\n",
              "      <td>0</td>\n",
              "    </tr>\n",
              "  </tbody>\n",
              "</table>\n",
              "<p>629 rows × 9 columns</p>\n",
              "</div>\n",
              "      <button class=\"colab-df-convert\" onclick=\"convertToInteractive('df-106b1d13-0cce-4cca-b084-bcddcb6c69f1')\"\n",
              "              title=\"Convert this dataframe to an interactive table.\"\n",
              "              style=\"display:none;\">\n",
              "        \n",
              "  <svg xmlns=\"http://www.w3.org/2000/svg\" height=\"24px\"viewBox=\"0 0 24 24\"\n",
              "       width=\"24px\">\n",
              "    <path d=\"M0 0h24v24H0V0z\" fill=\"none\"/>\n",
              "    <path d=\"M18.56 5.44l.94 2.06.94-2.06 2.06-.94-2.06-.94-.94-2.06-.94 2.06-2.06.94zm-11 1L8.5 8.5l.94-2.06 2.06-.94-2.06-.94L8.5 2.5l-.94 2.06-2.06.94zm10 10l.94 2.06.94-2.06 2.06-.94-2.06-.94-.94-2.06-.94 2.06-2.06.94z\"/><path d=\"M17.41 7.96l-1.37-1.37c-.4-.4-.92-.59-1.43-.59-.52 0-1.04.2-1.43.59L10.3 9.45l-7.72 7.72c-.78.78-.78 2.05 0 2.83L4 21.41c.39.39.9.59 1.41.59.51 0 1.02-.2 1.41-.59l7.78-7.78 2.81-2.81c.8-.78.8-2.07 0-2.86zM5.41 20L4 18.59l7.72-7.72 1.47 1.35L5.41 20z\"/>\n",
              "  </svg>\n",
              "      </button>\n",
              "      \n",
              "  <style>\n",
              "    .colab-df-container {\n",
              "      display:flex;\n",
              "      flex-wrap:wrap;\n",
              "      gap: 12px;\n",
              "    }\n",
              "\n",
              "    .colab-df-convert {\n",
              "      background-color: #E8F0FE;\n",
              "      border: none;\n",
              "      border-radius: 50%;\n",
              "      cursor: pointer;\n",
              "      display: none;\n",
              "      fill: #1967D2;\n",
              "      height: 32px;\n",
              "      padding: 0 0 0 0;\n",
              "      width: 32px;\n",
              "    }\n",
              "\n",
              "    .colab-df-convert:hover {\n",
              "      background-color: #E2EBFA;\n",
              "      box-shadow: 0px 1px 2px rgba(60, 64, 67, 0.3), 0px 1px 3px 1px rgba(60, 64, 67, 0.15);\n",
              "      fill: #174EA6;\n",
              "    }\n",
              "\n",
              "    [theme=dark] .colab-df-convert {\n",
              "      background-color: #3B4455;\n",
              "      fill: #D2E3FC;\n",
              "    }\n",
              "\n",
              "    [theme=dark] .colab-df-convert:hover {\n",
              "      background-color: #434B5C;\n",
              "      box-shadow: 0px 1px 3px 1px rgba(0, 0, 0, 0.15);\n",
              "      filter: drop-shadow(0px 1px 2px rgba(0, 0, 0, 0.3));\n",
              "      fill: #FFFFFF;\n",
              "    }\n",
              "  </style>\n",
              "\n",
              "      <script>\n",
              "        const buttonEl =\n",
              "          document.querySelector('#df-106b1d13-0cce-4cca-b084-bcddcb6c69f1 button.colab-df-convert');\n",
              "        buttonEl.style.display =\n",
              "          google.colab.kernel.accessAllowed ? 'block' : 'none';\n",
              "\n",
              "        async function convertToInteractive(key) {\n",
              "          const element = document.querySelector('#df-106b1d13-0cce-4cca-b084-bcddcb6c69f1');\n",
              "          const dataTable =\n",
              "            await google.colab.kernel.invokeFunction('convertToInteractive',\n",
              "                                                     [key], {});\n",
              "          if (!dataTable) return;\n",
              "\n",
              "          const docLinkHtml = 'Like what you see? Visit the ' +\n",
              "            '<a target=\"_blank\" href=https://colab.research.google.com/notebooks/data_table.ipynb>data table notebook</a>'\n",
              "            + ' to learn more about interactive tables.';\n",
              "          element.innerHTML = '';\n",
              "          dataTable['output_type'] = 'display_data';\n",
              "          await google.colab.output.renderOutput(dataTable, element);\n",
              "          const docLink = document.createElement('div');\n",
              "          docLink.innerHTML = docLinkHtml;\n",
              "          element.appendChild(docLink);\n",
              "        }\n",
              "      </script>\n",
              "    </div>\n",
              "  </div>\n",
              "  "
            ]
          },
          "metadata": {},
          "execution_count": 25
        }
      ]
    },
    {
      "cell_type": "markdown",
      "source": [
        "Untuk menampilkan dataset"
      ],
      "metadata": {
        "id": "0GSyTT1vJSg-"
      }
    },
    {
      "cell_type": "code",
      "source": [
        "df_baru = dataset.loc[:,['Game','AllEarnings','TierCompetitive']]\n",
        "df_baru"
      ],
      "metadata": {
        "colab": {
          "base_uri": "https://localhost:8080/",
          "height": 423
        },
        "id": "DdxsLY1UhKrI",
        "outputId": "72dacfa9-6d96-450e-b446-c16b89b24c87"
      },
      "execution_count": null,
      "outputs": [
        {
          "output_type": "execute_result",
          "data": {
            "text/plain": [
              "                                     Game  AllEarnings  TierCompetitive\n",
              "0                                  Dota 2  59273109911                1\n",
              "1                                Fortnite  19495860538                1\n",
              "2                          Arena of Valor  13676572874                1\n",
              "3    PLAYERUNKNOWN'S BATTLEGROUNDS Mobile  10367055560                1\n",
              "4           PLAYERUNKNOWN’S BATTLEGROUNDS   9121454779                1\n",
              "..                                    ...          ...              ...\n",
              "624                               Pac-man            0                0\n",
              "625                   Apex Legends Mobile            0                0\n",
              "626          Ark: Survival Of The Fittest            0                0\n",
              "627                     Rules Of Survival            0                0\n",
              "628                         Knockout City            0                0\n",
              "\n",
              "[629 rows x 3 columns]"
            ],
            "text/html": [
              "\n",
              "  <div id=\"df-dc706617-75c3-4e3d-aa75-975b59f6fa93\">\n",
              "    <div class=\"colab-df-container\">\n",
              "      <div>\n",
              "<style scoped>\n",
              "    .dataframe tbody tr th:only-of-type {\n",
              "        vertical-align: middle;\n",
              "    }\n",
              "\n",
              "    .dataframe tbody tr th {\n",
              "        vertical-align: top;\n",
              "    }\n",
              "\n",
              "    .dataframe thead th {\n",
              "        text-align: right;\n",
              "    }\n",
              "</style>\n",
              "<table border=\"1\" class=\"dataframe\">\n",
              "  <thead>\n",
              "    <tr style=\"text-align: right;\">\n",
              "      <th></th>\n",
              "      <th>Game</th>\n",
              "      <th>AllEarnings</th>\n",
              "      <th>TierCompetitive</th>\n",
              "    </tr>\n",
              "  </thead>\n",
              "  <tbody>\n",
              "    <tr>\n",
              "      <th>0</th>\n",
              "      <td>Dota 2</td>\n",
              "      <td>59273109911</td>\n",
              "      <td>1</td>\n",
              "    </tr>\n",
              "    <tr>\n",
              "      <th>1</th>\n",
              "      <td>Fortnite</td>\n",
              "      <td>19495860538</td>\n",
              "      <td>1</td>\n",
              "    </tr>\n",
              "    <tr>\n",
              "      <th>2</th>\n",
              "      <td>Arena of Valor</td>\n",
              "      <td>13676572874</td>\n",
              "      <td>1</td>\n",
              "    </tr>\n",
              "    <tr>\n",
              "      <th>3</th>\n",
              "      <td>PLAYERUNKNOWN'S BATTLEGROUNDS Mobile</td>\n",
              "      <td>10367055560</td>\n",
              "      <td>1</td>\n",
              "    </tr>\n",
              "    <tr>\n",
              "      <th>4</th>\n",
              "      <td>PLAYERUNKNOWN’S BATTLEGROUNDS</td>\n",
              "      <td>9121454779</td>\n",
              "      <td>1</td>\n",
              "    </tr>\n",
              "    <tr>\n",
              "      <th>...</th>\n",
              "      <td>...</td>\n",
              "      <td>...</td>\n",
              "      <td>...</td>\n",
              "    </tr>\n",
              "    <tr>\n",
              "      <th>624</th>\n",
              "      <td>Pac-man</td>\n",
              "      <td>0</td>\n",
              "      <td>0</td>\n",
              "    </tr>\n",
              "    <tr>\n",
              "      <th>625</th>\n",
              "      <td>Apex Legends Mobile</td>\n",
              "      <td>0</td>\n",
              "      <td>0</td>\n",
              "    </tr>\n",
              "    <tr>\n",
              "      <th>626</th>\n",
              "      <td>Ark: Survival Of The Fittest</td>\n",
              "      <td>0</td>\n",
              "      <td>0</td>\n",
              "    </tr>\n",
              "    <tr>\n",
              "      <th>627</th>\n",
              "      <td>Rules Of Survival</td>\n",
              "      <td>0</td>\n",
              "      <td>0</td>\n",
              "    </tr>\n",
              "    <tr>\n",
              "      <th>628</th>\n",
              "      <td>Knockout City</td>\n",
              "      <td>0</td>\n",
              "      <td>0</td>\n",
              "    </tr>\n",
              "  </tbody>\n",
              "</table>\n",
              "<p>629 rows × 3 columns</p>\n",
              "</div>\n",
              "      <button class=\"colab-df-convert\" onclick=\"convertToInteractive('df-dc706617-75c3-4e3d-aa75-975b59f6fa93')\"\n",
              "              title=\"Convert this dataframe to an interactive table.\"\n",
              "              style=\"display:none;\">\n",
              "        \n",
              "  <svg xmlns=\"http://www.w3.org/2000/svg\" height=\"24px\"viewBox=\"0 0 24 24\"\n",
              "       width=\"24px\">\n",
              "    <path d=\"M0 0h24v24H0V0z\" fill=\"none\"/>\n",
              "    <path d=\"M18.56 5.44l.94 2.06.94-2.06 2.06-.94-2.06-.94-.94-2.06-.94 2.06-2.06.94zm-11 1L8.5 8.5l.94-2.06 2.06-.94-2.06-.94L8.5 2.5l-.94 2.06-2.06.94zm10 10l.94 2.06.94-2.06 2.06-.94-2.06-.94-.94-2.06-.94 2.06-2.06.94z\"/><path d=\"M17.41 7.96l-1.37-1.37c-.4-.4-.92-.59-1.43-.59-.52 0-1.04.2-1.43.59L10.3 9.45l-7.72 7.72c-.78.78-.78 2.05 0 2.83L4 21.41c.39.39.9.59 1.41.59.51 0 1.02-.2 1.41-.59l7.78-7.78 2.81-2.81c.8-.78.8-2.07 0-2.86zM5.41 20L4 18.59l7.72-7.72 1.47 1.35L5.41 20z\"/>\n",
              "  </svg>\n",
              "      </button>\n",
              "      \n",
              "  <style>\n",
              "    .colab-df-container {\n",
              "      display:flex;\n",
              "      flex-wrap:wrap;\n",
              "      gap: 12px;\n",
              "    }\n",
              "\n",
              "    .colab-df-convert {\n",
              "      background-color: #E8F0FE;\n",
              "      border: none;\n",
              "      border-radius: 50%;\n",
              "      cursor: pointer;\n",
              "      display: none;\n",
              "      fill: #1967D2;\n",
              "      height: 32px;\n",
              "      padding: 0 0 0 0;\n",
              "      width: 32px;\n",
              "    }\n",
              "\n",
              "    .colab-df-convert:hover {\n",
              "      background-color: #E2EBFA;\n",
              "      box-shadow: 0px 1px 2px rgba(60, 64, 67, 0.3), 0px 1px 3px 1px rgba(60, 64, 67, 0.15);\n",
              "      fill: #174EA6;\n",
              "    }\n",
              "\n",
              "    [theme=dark] .colab-df-convert {\n",
              "      background-color: #3B4455;\n",
              "      fill: #D2E3FC;\n",
              "    }\n",
              "\n",
              "    [theme=dark] .colab-df-convert:hover {\n",
              "      background-color: #434B5C;\n",
              "      box-shadow: 0px 1px 3px 1px rgba(0, 0, 0, 0.15);\n",
              "      filter: drop-shadow(0px 1px 2px rgba(0, 0, 0, 0.3));\n",
              "      fill: #FFFFFF;\n",
              "    }\n",
              "  </style>\n",
              "\n",
              "      <script>\n",
              "        const buttonEl =\n",
              "          document.querySelector('#df-dc706617-75c3-4e3d-aa75-975b59f6fa93 button.colab-df-convert');\n",
              "        buttonEl.style.display =\n",
              "          google.colab.kernel.accessAllowed ? 'block' : 'none';\n",
              "\n",
              "        async function convertToInteractive(key) {\n",
              "          const element = document.querySelector('#df-dc706617-75c3-4e3d-aa75-975b59f6fa93');\n",
              "          const dataTable =\n",
              "            await google.colab.kernel.invokeFunction('convertToInteractive',\n",
              "                                                     [key], {});\n",
              "          if (!dataTable) return;\n",
              "\n",
              "          const docLinkHtml = 'Like what you see? Visit the ' +\n",
              "            '<a target=\"_blank\" href=https://colab.research.google.com/notebooks/data_table.ipynb>data table notebook</a>'\n",
              "            + ' to learn more about interactive tables.';\n",
              "          element.innerHTML = '';\n",
              "          dataTable['output_type'] = 'display_data';\n",
              "          await google.colab.output.renderOutput(dataTable, element);\n",
              "          const docLink = document.createElement('div');\n",
              "          docLink.innerHTML = docLinkHtml;\n",
              "          element.appendChild(docLink);\n",
              "        }\n",
              "      </script>\n",
              "    </div>\n",
              "  </div>\n",
              "  "
            ]
          },
          "metadata": {},
          "execution_count": 26
        }
      ]
    },
    {
      "cell_type": "markdown",
      "source": [
        "Mengecek data apabila terdapat nun atau tidak"
      ],
      "metadata": {
        "id": "m1ygeYLRJgSg"
      }
    },
    {
      "cell_type": "code",
      "source": [
        "df_baru.info()"
      ],
      "metadata": {
        "colab": {
          "base_uri": "https://localhost:8080/"
        },
        "id": "4lCdobAFh_8B",
        "outputId": "906920f1-a9e2-45f3-93be-2cf51dca8693"
      },
      "execution_count": null,
      "outputs": [
        {
          "output_type": "stream",
          "name": "stdout",
          "text": [
            "<class 'pandas.core.frame.DataFrame'>\n",
            "RangeIndex: 629 entries, 0 to 628\n",
            "Data columns (total 3 columns):\n",
            " #   Column           Non-Null Count  Dtype \n",
            "---  ------           --------------  ----- \n",
            " 0   Game             629 non-null    object\n",
            " 1   AllEarnings      629 non-null    int64 \n",
            " 2   TierCompetitive  629 non-null    int64 \n",
            "dtypes: int64(2), object(1)\n",
            "memory usage: 14.9+ KB\n"
          ]
        }
      ]
    },
    {
      "cell_type": "code",
      "source": [
        "df_baru.isnull().sum()"
      ],
      "metadata": {
        "colab": {
          "base_uri": "https://localhost:8080/"
        },
        "id": "NJ9vnCtbiXkM",
        "outputId": "dcc1b757-2d34-4907-84ba-6cafc63c37ab"
      },
      "execution_count": null,
      "outputs": [
        {
          "output_type": "execute_result",
          "data": {
            "text/plain": [
              "Game               0\n",
              "AllEarnings        0\n",
              "TierCompetitive    0\n",
              "dtype: int64"
            ]
          },
          "metadata": {},
          "execution_count": 28
        }
      ]
    },
    {
      "cell_type": "markdown",
      "source": [
        "Untuk mengetahui data type "
      ],
      "metadata": {
        "id": "I4tyEBbEJ2Dn"
      }
    },
    {
      "cell_type": "code",
      "source": [
        "x = df_baru[['Game','AllEarnings']].values\n",
        "y = df_baru['TierCompetitive'].values"
      ],
      "metadata": {
        "id": "922eRNwcjRQj"
      },
      "execution_count": null,
      "outputs": []
    },
    {
      "cell_type": "code",
      "source": [
        "print(x)"
      ],
      "metadata": {
        "colab": {
          "base_uri": "https://localhost:8080/"
        },
        "id": "CvRvWnz2jzMZ",
        "outputId": "383d8ee2-2c26-44ae-8fe1-f963fd28aa63"
      },
      "execution_count": null,
      "outputs": [
        {
          "output_type": "stream",
          "name": "stdout",
          "text": [
            "[[        138 59273109911]\n",
            " [        193 19495860538]\n",
            " [         21 13676572874]\n",
            " ...\n",
            " [         22           0]\n",
            " [        458           0]\n",
            " [        285           0]]\n"
          ]
        }
      ]
    },
    {
      "cell_type": "code",
      "source": [
        "print(y)"
      ],
      "metadata": {
        "colab": {
          "base_uri": "https://localhost:8080/"
        },
        "id": "fd6txXQRj2Cs",
        "outputId": "17464c4b-2609-4e9d-cd26-66b53b7c5af7"
      },
      "execution_count": null,
      "outputs": [
        {
          "output_type": "stream",
          "name": "stdout",
          "text": [
            "[1 1 1 1 1 1 1 1 1 1 1 1 1 1 1 1 2 2 2 2 2 2 2 2 2 3 2 3 3 3 3 3 3 3 3 3 3\n",
            " 3 3 3 3 3 3 3 3 3 3 3 3 3 3 3 3 3 3 3 3 3 2 3 3 3 3 3 3 3 3 3 3 3 3 3 3 3\n",
            " 3 3 3 4 3 3 3 3 4 4 3 3 3 3 3 4 3 4 3 4 4 4 4 4 4 4 4 4 4 4 4 4 4 4 4 3 4\n",
            " 4 4 4 4 4 4 4 4 4 4 4 4 4 4 4 4 4 4 4 4 4 4 4 4 4 4 4 4 4 4 4 4 4 4 4 4 4\n",
            " 4 4 4 4 4 4 4 4 4 4 4 4 4 4 4 4 4 4 4 5 4 4 5 5 4 4 5 5 4 4 4 5 5 5 4 4 4\n",
            " 4 4 4 4 5 5 5 5 5 5 5 5 5 5 5 5 5 5 5 5 5 5 4 5 5 5 5 5 5 5 5 5 5 5 5 5 5\n",
            " 5 5 5 5 5 5 5 5 5 5 5 5 5 5 5 5 5 5 5 5 5 5 5 5 5 5 5 5 5 5 5 5 5 5 5 5 5\n",
            " 5 5 4 5 5 5 5 5 5 5 5 5 5 5 5 5 5 5 5 5 5 5 5 5 5 5 5 5 5 5 5 5 5 5 5 5 5\n",
            " 5 5 5 5 5 5 5 5 5 5 5 5 5 5 5 5 5 5 5 5 5 5 5 5 5 5 5 5 5 5 5 5 5 5 5 5 5\n",
            " 5 5 5 5 5 5 5 5 5 5 5 5 5 5 5 5 5 5 5 5 5 5 5 5 5 5 5 5 5 5 5 5 5 5 5 5 5\n",
            " 5 5 5 5 5 5 5 5 5 5 5 5 5 5 5 5 5 5 5 5 5 5 5 5 5 5 5 5 5 5 5 5 5 5 5 5 5\n",
            " 5 5 5 5 5 5 5 5 5 5 5 5 5 5 5 5 5 5 5 5 5 5 5 5 5 5 5 5 5 5 5 5 5 5 5 5 5\n",
            " 5 5 5 5 5 5 5 5 5 5 5 5 5 5 5 5 5 5 5 5 5 5 5 5 5 5 5 5 5 5 5 5 5 5 5 5 5\n",
            " 5 5 5 5 5 5 5 5 5 5 5 5 5 5 5 5 5 5 5 5 5 5 5 5 5 5 5 5 5 5 5 5 5 5 5 5 5\n",
            " 5 5 5 5 5 5 5 5 5 5 5 5 5 5 5 5 5 5 5 5 5 5 5 5 5 5 5 5 5 5 5 5 5 5 5 5 5\n",
            " 5 5 5 5 5 5 5 5 5 5 0 0 0 0 0 0 0 0 0 0 0 0 0 0 0 0 0 0 0 0 0 0 0 0 0 0 0\n",
            " 0 0 0 0 0 0 0 0 0 0 0 0 0 0 0 0 0 0 0 0 0 0 0 0 0 0 0 0 0 0 0 0 0 0 0 0 0]\n"
          ]
        }
      ]
    },
    {
      "cell_type": "code",
      "source": [
        "from sklearn.preprocessing import LabelEncoder\n",
        "le = LabelEncoder()\n",
        "df_baru['Game'] = le.fit_transform(dataset['Game'].values)\n",
        "y = le.fit_transform(y)"
      ],
      "metadata": {
        "id": "y-MGJm3tj9wr"
      },
      "execution_count": null,
      "outputs": []
    },
    {
      "cell_type": "code",
      "source": [
        "print(df_baru)"
      ],
      "metadata": {
        "colab": {
          "base_uri": "https://localhost:8080/"
        },
        "id": "qXAU7A0MkmUr",
        "outputId": "721c2ba9-817a-4ac1-9a5c-4123c3946f4f"
      },
      "execution_count": null,
      "outputs": [
        {
          "output_type": "stream",
          "name": "stdout",
          "text": [
            "     Game  AllEarnings  TierCompetitive\n",
            "0     138  59273109911                1\n",
            "1     193  19495860538                1\n",
            "2      21  13676572874                1\n",
            "3     377  10367055560                1\n",
            "4     378   9121454779                1\n",
            "..    ...          ...              ...\n",
            "624   379            0                0\n",
            "625    15            0                0\n",
            "626    22            0                0\n",
            "627   458            0                0\n",
            "628   285            0                0\n",
            "\n",
            "[629 rows x 3 columns]\n"
          ]
        }
      ]
    },
    {
      "cell_type": "code",
      "source": [
        "print(x,y)"
      ],
      "metadata": {
        "colab": {
          "base_uri": "https://localhost:8080/"
        },
        "id": "H3wlSQEOl4lc",
        "outputId": "c9ef8c0a-243f-4a49-8af7-012e02da0b43"
      },
      "execution_count": null,
      "outputs": [
        {
          "output_type": "stream",
          "name": "stdout",
          "text": [
            "[[        138 59273109911]\n",
            " [        193 19495860538]\n",
            " [         21 13676572874]\n",
            " ...\n",
            " [         22           0]\n",
            " [        458           0]\n",
            " [        285           0]] [1 1 1 1 1 1 1 1 1 1 1 1 1 1 1 1 2 2 2 2 2 2 2 2 2 3 2 3 3 3 3 3 3 3 3 3 3\n",
            " 3 3 3 3 3 3 3 3 3 3 3 3 3 3 3 3 3 3 3 3 3 2 3 3 3 3 3 3 3 3 3 3 3 3 3 3 3\n",
            " 3 3 3 4 3 3 3 3 4 4 3 3 3 3 3 4 3 4 3 4 4 4 4 4 4 4 4 4 4 4 4 4 4 4 4 3 4\n",
            " 4 4 4 4 4 4 4 4 4 4 4 4 4 4 4 4 4 4 4 4 4 4 4 4 4 4 4 4 4 4 4 4 4 4 4 4 4\n",
            " 4 4 4 4 4 4 4 4 4 4 4 4 4 4 4 4 4 4 4 5 4 4 5 5 4 4 5 5 4 4 4 5 5 5 4 4 4\n",
            " 4 4 4 4 5 5 5 5 5 5 5 5 5 5 5 5 5 5 5 5 5 5 4 5 5 5 5 5 5 5 5 5 5 5 5 5 5\n",
            " 5 5 5 5 5 5 5 5 5 5 5 5 5 5 5 5 5 5 5 5 5 5 5 5 5 5 5 5 5 5 5 5 5 5 5 5 5\n",
            " 5 5 4 5 5 5 5 5 5 5 5 5 5 5 5 5 5 5 5 5 5 5 5 5 5 5 5 5 5 5 5 5 5 5 5 5 5\n",
            " 5 5 5 5 5 5 5 5 5 5 5 5 5 5 5 5 5 5 5 5 5 5 5 5 5 5 5 5 5 5 5 5 5 5 5 5 5\n",
            " 5 5 5 5 5 5 5 5 5 5 5 5 5 5 5 5 5 5 5 5 5 5 5 5 5 5 5 5 5 5 5 5 5 5 5 5 5\n",
            " 5 5 5 5 5 5 5 5 5 5 5 5 5 5 5 5 5 5 5 5 5 5 5 5 5 5 5 5 5 5 5 5 5 5 5 5 5\n",
            " 5 5 5 5 5 5 5 5 5 5 5 5 5 5 5 5 5 5 5 5 5 5 5 5 5 5 5 5 5 5 5 5 5 5 5 5 5\n",
            " 5 5 5 5 5 5 5 5 5 5 5 5 5 5 5 5 5 5 5 5 5 5 5 5 5 5 5 5 5 5 5 5 5 5 5 5 5\n",
            " 5 5 5 5 5 5 5 5 5 5 5 5 5 5 5 5 5 5 5 5 5 5 5 5 5 5 5 5 5 5 5 5 5 5 5 5 5\n",
            " 5 5 5 5 5 5 5 5 5 5 5 5 5 5 5 5 5 5 5 5 5 5 5 5 5 5 5 5 5 5 5 5 5 5 5 5 5\n",
            " 5 5 5 5 5 5 5 5 5 5 0 0 0 0 0 0 0 0 0 0 0 0 0 0 0 0 0 0 0 0 0 0 0 0 0 0 0\n",
            " 0 0 0 0 0 0 0 0 0 0 0 0 0 0 0 0 0 0 0 0 0 0 0 0 0 0 0 0 0 0 0 0 0 0 0 0 0]\n"
          ]
        }
      ]
    },
    {
      "cell_type": "code",
      "source": [
        "from sklearn.model_selection import train_test_split\n",
        "x_train, x_test, y_train, y_test = train_test_split(x, y, test_size=0.2, random_state=0)"
      ],
      "metadata": {
        "id": "CxcyS6zXkssw"
      },
      "execution_count": null,
      "outputs": []
    },
    {
      "cell_type": "code",
      "source": [
        "print(x_train)"
      ],
      "metadata": {
        "colab": {
          "base_uri": "https://localhost:8080/"
        },
        "id": "US0c9t6tk25y",
        "outputId": "42d32993-ffaa-4d66-8eb7-f9e8b17dbe01"
      },
      "execution_count": null,
      "outputs": [
        {
          "output_type": "stream",
          "name": "stdout",
          "text": [
            "[[        39    2692656]\n",
            " [        65  487944507]\n",
            " [       375 5302050846]\n",
            " ...\n",
            " [       440     158000]\n",
            " [       579    9247014]\n",
            " [        49         70]]\n"
          ]
        }
      ]
    },
    {
      "cell_type": "code",
      "source": [
        "print(x_test)"
      ],
      "metadata": {
        "colab": {
          "base_uri": "https://localhost:8080/"
        },
        "id": "grMyz2uKk61A",
        "outputId": "d0d9d940-328b-4d90-aac9-0425243bb732"
      },
      "execution_count": null,
      "outputs": [
        {
          "output_type": "stream",
          "name": "stdout",
          "text": [
            "[[        261     7035378]\n",
            " [        214      210848]\n",
            " [        332         740]\n",
            " [        459      416009]\n",
            " [        448       70000]\n",
            " [        187    34027383]\n",
            " [        313         260]\n",
            " [        131         200]\n",
            " [        396      542102]\n",
            " [         91         100]\n",
            " [        483         600]\n",
            " [         35    18343044]\n",
            " [        417     5041692]\n",
            " [        488        9960]\n",
            " [          2     6584956]\n",
            " [        567       67941]\n",
            " [        422         400]\n",
            " [        352      140586]\n",
            " [        379           0]\n",
            " [        626   358846006]\n",
            " [         78     1063000]\n",
            " [        218           0]\n",
            " [        385     4053632]\n",
            " [        408      432000]\n",
            " [         75    81793470]\n",
            " [        107     1263141]\n",
            " [         24       11745]\n",
            " [        372     4603542]\n",
            " [        415       70000]\n",
            " [        329       15070]\n",
            " [         88         750]\n",
            " [         67   290921088]\n",
            " [        513   452704190]\n",
            " [         61          16]\n",
            " [        419    41058418]\n",
            " [        301        3000]\n",
            " [        363     7264516]\n",
            " [         97    10617334]\n",
            " [        197       26474]\n",
            " [        287  1848834220]\n",
            " [        620     6537076]\n",
            " [        280          50]\n",
            " [        333       16623]\n",
            " [        390   331310430]\n",
            " [        523   414436555]\n",
            " [         96        2000]\n",
            " [        285           0]\n",
            " [        350         501]\n",
            " [        148           0]\n",
            " [        496       50000]\n",
            " [        540       20500]\n",
            " [        271         275]\n",
            " [        617     4874672]\n",
            " [         47         250]\n",
            " [        345      118670]\n",
            " [        200  2534900171]\n",
            " [        444      262203]\n",
            " [        171    18372529]\n",
            " [        355      631432]\n",
            " [        544           0]\n",
            " [         36     3709228]\n",
            " [        466      655238]\n",
            " [        193 19495860538]\n",
            " [        286        3380]\n",
            " [        275   113473270]\n",
            " [        597         460]\n",
            " [        299      250000]\n",
            " [        492    33570055]\n",
            " [          6   122522409]\n",
            " [        456       50000]\n",
            " [        249  4772562831]\n",
            " [        421       13000]\n",
            " [        295     2105228]\n",
            " [        615  1267772652]\n",
            " [         55    10541158]\n",
            " [        166    23693976]\n",
            " [        529        1000]\n",
            " [        195      444000]\n",
            " [         23    13122015]\n",
            " [        391      150000]\n",
            " [        365     6441692]\n",
            " [         43     1617556]\n",
            " [        395           0]\n",
            " [        501     1535850]\n",
            " [        251     1233933]\n",
            " [        185   500196871]\n",
            " [        604     1596330]\n",
            " [        451     7809808]\n",
            " [        371        4050]\n",
            " [        536   365939974]\n",
            " [        161       80000]\n",
            " [        554     7764816]\n",
            " [        236   214638834]\n",
            " [        321      286980]\n",
            " [        194        5000]\n",
            " [         86        3015]\n",
            " [        386        7500]\n",
            " [        254  3262079032]\n",
            " [        572         150]\n",
            " [        595      114754]\n",
            " [        307      100000]\n",
            " [        325           0]\n",
            " [        589  2182026406]\n",
            " [         11       80000]\n",
            " [         79    11401000]\n",
            " [        322           0]\n",
            " [        181   232927466]\n",
            " [        493       55020]\n",
            " [        613   790352831]\n",
            " [        300     1626000]\n",
            " [        217       66800]\n",
            " [         66    72276266]\n",
            " [        504   143853527]\n",
            " [        616     1496108]\n",
            " [        259   191561829]\n",
            " [        392    15418832]\n",
            " [        475           0]\n",
            " [        340   100153292]\n",
            " [        568       20550]\n",
            " [        264           0]\n",
            " [        561     3931254]\n",
            " [          9      250000]\n",
            " [        282    14794418]\n",
            " [        186        4100]\n",
            " [        100  2640826924]\n",
            " [        441      263000]]\n"
          ]
        }
      ]
    },
    {
      "cell_type": "code",
      "source": [
        "print(y_train)"
      ],
      "metadata": {
        "colab": {
          "base_uri": "https://localhost:8080/"
        },
        "id": "oDQsQTrumUqC",
        "outputId": "5319bf4c-7ffb-4bb0-c678-d37e33688097"
      },
      "execution_count": null,
      "outputs": [
        {
          "output_type": "stream",
          "name": "stdout",
          "text": [
            "[5 3 1 5 4 5 5 0 5 5 5 3 0 5 4 4 5 5 0 5 0 0 5 5 5 5 4 0 5 4 0 5 5 0 4 0 0\n",
            " 5 4 5 5 0 3 5 5 5 5 4 5 0 1 5 3 5 4 5 4 5 0 5 5 5 5 5 5 5 5 2 5 5 5 5 5 5\n",
            " 5 4 5 0 5 4 5 5 5 5 5 5 4 0 5 5 4 2 3 5 5 5 5 4 0 5 5 4 5 0 5 5 5 5 5 4 5\n",
            " 3 5 2 3 0 4 1 5 5 5 5 0 5 5 5 5 4 5 5 1 0 5 4 4 3 3 4 5 5 5 3 3 5 5 5 5 5\n",
            " 5 5 5 5 3 5 5 5 5 4 4 4 3 5 0 5 4 3 5 5 5 5 3 5 1 5 5 5 5 1 4 5 4 5 0 2 5\n",
            " 5 5 0 5 5 0 4 3 0 0 5 0 0 4 0 5 5 0 5 5 5 4 5 5 4 4 5 3 4 5 0 5 5 5 4 5 5\n",
            " 0 5 5 5 4 4 3 5 0 5 5 5 5 5 3 1 5 5 0 4 5 5 0 5 4 5 0 5 5 4 5 5 4 5 5 5 5\n",
            " 5 5 5 4 5 5 5 5 5 5 0 5 5 4 3 3 5 3 5 5 3 5 0 5 0 5 0 5 5 5 5 5 5 3 5 5 3\n",
            " 5 3 5 5 5 5 0 5 3 5 5 4 4 5 5 4 5 4 5 5 5 5 5 5 5 0 5 5 5 3 2 5 5 5 5 5 4\n",
            " 5 4 4 5 4 5 3 5 5 3 5 5 5 1 5 5 5 4 5 5 5 5 4 4 5 4 5 5 5 5 3 4 4 5 4 2 5\n",
            " 5 3 5 5 5 4 5 5 5 5 5 5 5 5 0 5 5 5 2 5 5 5 5 4 5 5 5 0 5 4 5 0 5 0 4 3 3\n",
            " 5 1 3 3 3 2 3 5 5 4 4 4 5 4 2 0 5 5 5 5 5 5 5 5 5 5 4 0 4 5 5 5 5 4 5 4 3\n",
            " 5 5 3 0 5 4 4 5 4 5 3 5 5 0 5 3 5 5 5 5 5 3 0 4 3 4 5 5 4 5 5 5 5 5 5 4 4\n",
            " 4 5 5 4 3 5 0 5 3 5 5 5 5 0 5 3 0 5 1 5 5 5]\n"
          ]
        }
      ]
    },
    {
      "cell_type": "code",
      "source": [
        "print(y_test)"
      ],
      "metadata": {
        "colab": {
          "base_uri": "https://localhost:8080/"
        },
        "id": "JqwcJ4SRmdfr",
        "outputId": "f10ad98b-9a1b-48de-c809-0e53de09bea1"
      },
      "execution_count": null,
      "outputs": [
        {
          "output_type": "stream",
          "name": "stdout",
          "text": [
            "[5 5 5 5 5 4 5 5 5 5 5 4 5 5 5 5 5 5 0 3 5 0 5 5 4 5 5 5 5 5 5 3 3 5 4 5 5\n",
            " 4 5 2 5 5 5 3 3 5 0 5 0 5 5 5 5 5 5 1 5 4 5 0 5 5 1 5 3 5 5 4 3 5 1 5 5 2\n",
            " 4 4 5 5 4 5 5 5 0 5 5 3 5 5 5 3 5 5 3 5 5 5 5 1 5 5 5 0 1 5 4 0 3 5 3 5 5\n",
            " 4 3 5 3 4 0 3 5 0 5 5 4 5 1 5]\n"
          ]
        }
      ]
    },
    {
      "cell_type": "code",
      "source": [
        "from sklearn.preprocessing import StandardScaler\n",
        "sc = StandardScaler()\n",
        "x_train[:, 1:] = sc.fit_transform(x_train[:, 1:])\n",
        "x_test[:, 1:] = sc.transform(x_test[:, 1:])"
      ],
      "metadata": {
        "id": "_iUwb6NEnjyE"
      },
      "execution_count": null,
      "outputs": []
    },
    {
      "cell_type": "code",
      "source": [
        "print(x_train)"
      ],
      "metadata": {
        "id": "dnjZDQD8nxNC",
        "outputId": "6e16bb61-a4e6-4be9-be55-8ce4205c0b8c",
        "colab": {
          "base_uri": "https://localhost:8080/"
        }
      },
      "execution_count": null,
      "outputs": [
        {
          "output_type": "stream",
          "name": "stdout",
          "text": [
            "[[ 39   0]\n",
            " [ 65   0]\n",
            " [375   1]\n",
            " ...\n",
            " [440   0]\n",
            " [579   0]\n",
            " [ 49   0]]\n"
          ]
        }
      ]
    },
    {
      "cell_type": "code",
      "source": [
        "print(x_test)"
      ],
      "metadata": {
        "id": "qex8Uxadny5Q",
        "outputId": "3e251cf1-f10c-488a-ebb5-4b6b1de5d2b2",
        "colab": {
          "base_uri": "https://localhost:8080/"
        }
      },
      "execution_count": null,
      "outputs": [
        {
          "output_type": "stream",
          "name": "stdout",
          "text": [
            "[[261   0]\n",
            " [214   0]\n",
            " [332   0]\n",
            " [459   0]\n",
            " [448   0]\n",
            " [187   0]\n",
            " [313   0]\n",
            " [131   0]\n",
            " [396   0]\n",
            " [ 91   0]\n",
            " [483   0]\n",
            " [ 35   0]\n",
            " [417   0]\n",
            " [488   0]\n",
            " [  2   0]\n",
            " [567   0]\n",
            " [422   0]\n",
            " [352   0]\n",
            " [379   0]\n",
            " [626   0]\n",
            " [ 78   0]\n",
            " [218   0]\n",
            " [385   0]\n",
            " [408   0]\n",
            " [ 75   0]\n",
            " [107   0]\n",
            " [ 24   0]\n",
            " [372   0]\n",
            " [415   0]\n",
            " [329   0]\n",
            " [ 88   0]\n",
            " [ 67   0]\n",
            " [513   0]\n",
            " [ 61   0]\n",
            " [419   0]\n",
            " [301   0]\n",
            " [363   0]\n",
            " [ 97   0]\n",
            " [197   0]\n",
            " [287   0]\n",
            " [620   0]\n",
            " [280   0]\n",
            " [333   0]\n",
            " [390   0]\n",
            " [523   0]\n",
            " [ 96   0]\n",
            " [285   0]\n",
            " [350   0]\n",
            " [148   0]\n",
            " [496   0]\n",
            " [540   0]\n",
            " [271   0]\n",
            " [617   0]\n",
            " [ 47   0]\n",
            " [345   0]\n",
            " [200   0]\n",
            " [444   0]\n",
            " [171   0]\n",
            " [355   0]\n",
            " [544   0]\n",
            " [ 36   0]\n",
            " [466   0]\n",
            " [193   6]\n",
            " [286   0]\n",
            " [275   0]\n",
            " [597   0]\n",
            " [299   0]\n",
            " [492   0]\n",
            " [  6   0]\n",
            " [456   0]\n",
            " [249   1]\n",
            " [421   0]\n",
            " [295   0]\n",
            " [615   0]\n",
            " [ 55   0]\n",
            " [166   0]\n",
            " [529   0]\n",
            " [195   0]\n",
            " [ 23   0]\n",
            " [391   0]\n",
            " [365   0]\n",
            " [ 43   0]\n",
            " [395   0]\n",
            " [501   0]\n",
            " [251   0]\n",
            " [185   0]\n",
            " [604   0]\n",
            " [451   0]\n",
            " [371   0]\n",
            " [536   0]\n",
            " [161   0]\n",
            " [554   0]\n",
            " [236   0]\n",
            " [321   0]\n",
            " [194   0]\n",
            " [ 86   0]\n",
            " [386   0]\n",
            " [254   1]\n",
            " [572   0]\n",
            " [595   0]\n",
            " [307   0]\n",
            " [325   0]\n",
            " [589   0]\n",
            " [ 11   0]\n",
            " [ 79   0]\n",
            " [322   0]\n",
            " [181   0]\n",
            " [493   0]\n",
            " [613   0]\n",
            " [300   0]\n",
            " [217   0]\n",
            " [ 66   0]\n",
            " [504   0]\n",
            " [616   0]\n",
            " [259   0]\n",
            " [392   0]\n",
            " [475   0]\n",
            " [340   0]\n",
            " [568   0]\n",
            " [264   0]\n",
            " [561   0]\n",
            " [  9   0]\n",
            " [282   0]\n",
            " [186   0]\n",
            " [100   0]\n",
            " [441   0]]\n"
          ]
        }
      ]
    }
  ]
}