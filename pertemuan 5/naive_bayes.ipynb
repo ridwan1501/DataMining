{
  "nbformat": 4,
  "nbformat_minor": 0,
  "metadata": {
    "colab": {
      "provenance": []
    },
    "kernelspec": {
      "name": "python3",
      "display_name": "Python 3"
    },
    "language_info": {
      "name": "python"
    }
  },
  "cells": [
    {
      "cell_type": "code",
      "execution_count": 22,
      "metadata": {
        "id": "KfqXL4ObVaKZ"
      },
      "outputs": [],
      "source": [
        "import numpy as np\n",
        "import matplotlib.pyplot as plt\n",
        "import pandas as pd"
      ]
    },
    {
      "cell_type": "code",
      "source": [
        "dataset = pd.read_csv('data.csv', sep=';')\n",
        "x = dataset.iloc[:, [6, 7]].values\n",
        "y = dataset.iloc[:, -1].values"
      ],
      "metadata": {
        "id": "vWJWskQHn1o2"
      },
      "execution_count": 23,
      "outputs": []
    },
    {
      "cell_type": "markdown",
      "source": [
        "x = data 6 dan 7 yaitu TotalTournaments dan AllEarnigns \n",
        "\n",
        "y = data akhir adalah TierCompetitive"
      ],
      "metadata": {
        "id": "4nlQPQkxosYO"
      }
    },
    {
      "cell_type": "code",
      "source": [
        "y"
      ],
      "metadata": {
        "colab": {
          "base_uri": "https://localhost:8080/"
        },
        "id": "SYPoCTCzo1Uu",
        "outputId": "a068b40f-e0b5-44a3-8abb-43f10e71ab45"
      },
      "execution_count": 24,
      "outputs": [
        {
          "output_type": "execute_result",
          "data": {
            "text/plain": [
              "array([1, 1, 1, 1, 1, 1, 1, 1, 1, 1, 1, 1, 1, 1, 1, 1, 2, 2, 2, 2, 2, 2,\n",
              "       2, 2, 2, 3, 2, 3, 3, 3, 3, 3, 3, 3, 3, 3, 3, 3, 3, 3, 3, 3, 3, 3,\n",
              "       3, 3, 3, 3, 3, 3, 3, 3, 3, 3, 3, 3, 3, 3, 2, 3, 3, 3, 3, 3, 3, 3,\n",
              "       3, 3, 3, 3, 3, 3, 3, 3, 3, 3, 3, 4, 3, 3, 3, 3, 4, 4, 3, 3, 3, 3,\n",
              "       3, 4, 3, 4, 3, 4, 4, 4, 4, 4, 4, 4, 4, 4, 4, 4, 4, 4, 4, 4, 4, 3,\n",
              "       4, 4, 4, 4, 4, 4, 4, 4, 4, 4, 4, 4, 4, 4, 4, 4, 4, 4, 4, 4, 4, 4,\n",
              "       4, 4, 4, 4, 4, 4, 4, 4, 4, 4, 4, 4, 4, 4, 4, 4, 4, 4, 4, 4, 4, 4,\n",
              "       4, 4, 4, 4, 4, 4, 4, 4, 4, 4, 4, 4, 4, 5, 4, 4, 5, 5, 4, 4, 5, 5,\n",
              "       4, 4, 4, 5, 5, 5, 4, 4, 4, 4, 4, 4, 4, 5, 5, 5, 5, 5, 5, 5, 5, 5,\n",
              "       5, 5, 5, 5, 5, 5, 5, 5, 5, 4, 5, 5, 5, 5, 5, 5, 5, 5, 5, 5, 5, 5,\n",
              "       5, 5, 5, 5, 5, 5, 5, 5, 5, 5, 5, 5, 5, 5, 5, 5, 5, 5, 5, 5, 5, 5,\n",
              "       5, 5, 5, 5, 5, 5, 5, 5, 5, 5, 5, 5, 5, 5, 5, 5, 5, 5, 5, 4, 5, 5,\n",
              "       5, 5, 5, 5, 5, 5, 5, 5, 5, 5, 5, 5, 5, 5, 5, 5, 5, 5, 5, 5, 5, 5,\n",
              "       5, 5, 5, 5, 5, 5, 5, 5, 5, 5, 5, 5, 5, 5, 5, 5, 5, 5, 5, 5, 5, 5,\n",
              "       5, 5, 5, 5, 5, 5, 5, 5, 5, 5, 5, 5, 5, 5, 5, 5, 5, 5, 5, 5, 5, 5,\n",
              "       5, 5, 5, 5, 5, 5, 5, 5, 5, 5, 5, 5, 5, 5, 5, 5, 5, 5, 5, 5, 5, 5,\n",
              "       5, 5, 5, 5, 5, 5, 5, 5, 5, 5, 5, 5, 5, 5, 5, 5, 5, 5, 5, 5, 5, 5,\n",
              "       5, 5, 5, 5, 5, 5, 5, 5, 5, 5, 5, 5, 5, 5, 5, 5, 5, 5, 5, 5, 5, 5,\n",
              "       5, 5, 5, 5, 5, 5, 5, 5, 5, 5, 5, 5, 5, 5, 5, 5, 5, 5, 5, 5, 5, 5,\n",
              "       5, 5, 5, 5, 5, 5, 5, 5, 5, 5, 5, 5, 5, 5, 5, 5, 5, 5, 5, 5, 5, 5,\n",
              "       5, 5, 5, 5, 5, 5, 5, 5, 5, 5, 5, 5, 5, 5, 5, 5, 5, 5, 5, 5, 5, 5,\n",
              "       5, 5, 5, 5, 5, 5, 5, 5, 5, 5, 5, 5, 5, 5, 5, 5, 5, 5, 5, 5, 5, 5,\n",
              "       5, 5, 5, 5, 5, 5, 5, 5, 5, 5, 5, 5, 5, 5, 5, 5, 5, 5, 5, 5, 5, 5,\n",
              "       5, 5, 5, 5, 5, 5, 5, 5, 5, 5, 5, 5, 5, 5, 5, 5, 5, 5, 5, 5, 5, 5,\n",
              "       5, 5, 5, 5, 5, 5, 5, 5, 5, 5, 5, 5, 5, 5, 5, 5, 5, 5, 5, 5, 5, 5,\n",
              "       5, 5, 5, 5, 5, 5, 5, 5, 5, 5, 5, 5, 5, 5, 5, 0, 0, 0, 0, 0, 0, 0,\n",
              "       0, 0, 0, 0, 0, 0, 0, 0, 0, 0, 0, 0, 0, 0, 0, 0, 0, 0, 0, 0, 0, 0,\n",
              "       0, 0, 0, 0, 0, 0, 0, 0, 0, 0, 0, 0, 0, 0, 0, 0, 0, 0, 0, 0, 0, 0,\n",
              "       0, 0, 0, 0, 0, 0, 0, 0, 0, 0, 0, 0, 0])"
            ]
          },
          "metadata": {},
          "execution_count": 24
        }
      ]
    },
    {
      "cell_type": "code",
      "source": [
        "x"
      ],
      "metadata": {
        "colab": {
          "base_uri": "https://localhost:8080/"
        },
        "id": "7IZDWu_6pTq6",
        "outputId": "5a368f3d-45bf-4762-f95c-b2e3c4d30b26"
      },
      "execution_count": 25,
      "outputs": [
        {
          "output_type": "execute_result",
          "data": {
            "text/plain": [
              "array([[       1742, 59273109911],\n",
              "       [       1149, 19495860538],\n",
              "       [        145, 13676572874],\n",
              "       ...,\n",
              "       [          0,           0],\n",
              "       [          0,           0],\n",
              "       [          0,           0]])"
            ]
          },
          "metadata": {},
          "execution_count": 25
        }
      ]
    },
    {
      "cell_type": "markdown",
      "source": [
        "Klasifikasi untuk menentukan menentukan data testing dan data training."
      ],
      "metadata": {
        "id": "S-UjfDQnpdRD"
      }
    },
    {
      "cell_type": "code",
      "source": [
        "from sklearn.model_selection import train_test_split\n",
        "x_train, x_test, y_train, y_test = train_test_split(x, y, test_size = 0.25, random_state = 0)"
      ],
      "metadata": {
        "id": "_zX5_zKDpVjf"
      },
      "execution_count": 26,
      "outputs": []
    },
    {
      "cell_type": "code",
      "source": [
        "x_train"
      ],
      "metadata": {
        "colab": {
          "base_uri": "https://localhost:8080/"
        },
        "id": "tJ5plZmPpkvY",
        "outputId": "dbc5d046-f203-4f58-f9a3-b50c2ac1cefb"
      },
      "execution_count": 27,
      "outputs": [
        {
          "output_type": "execute_result",
          "data": {
            "text/plain": [
              "array([[         77,     9076626],\n",
              "       [          0,           0],\n",
              "       [        219,    76622193],\n",
              "       [          0,           0],\n",
              "       [          0,           0],\n",
              "       [          1,       21000],\n",
              "       [          9,    52618103],\n",
              "       [          6,     1024000],\n",
              "       [          2,       88000],\n",
              "       [          0,           0],\n",
              "       [        384,   455672355],\n",
              "       [         16,      410257],\n",
              "       [          4,        1690],\n",
              "       [          2,       59000],\n",
              "       [          5,       60608],\n",
              "       [        382,    28548343],\n",
              "       [        105,     3608339],\n",
              "       [          0,           0],\n",
              "       [       1742, 59273109911],\n",
              "       [          3,       48000],\n",
              "       [        148,   124159888],\n",
              "       [          8,        3200],\n",
              "       [        204,    71117334],\n",
              "       [          1,       43750],\n",
              "       [         43,    28791934],\n",
              "       [          1,       47266],\n",
              "       [          0,           0],\n",
              "       [          8,       86000],\n",
              "       [          2,         820],\n",
              "       [          2,       13116],\n",
              "       [         18,      511066],\n",
              "       [         28,     5914916],\n",
              "       [         26,     8523473],\n",
              "       [         15,     9244548],\n",
              "       [          2,         750],\n",
              "       [         44,  1088214658],\n",
              "       [         12,     1436400],\n",
              "       [         13,      183108],\n",
              "       [          4,        1390],\n",
              "       [          1,       14000],\n",
              "       [          4,       56777],\n",
              "       [          4,        3988],\n",
              "       [         30,     1476644],\n",
              "       [         18,    27934011],\n",
              "       [         12,      144790],\n",
              "       [          0,           0],\n",
              "       [          2,        2000],\n",
              "       [          3,    10813288],\n",
              "       [          2,      139597],\n",
              "       [          5,      189082],\n",
              "       [          3,        2740],\n",
              "       [          8,        8000],\n",
              "       [          2,       50000],\n",
              "       [          1,      200000],\n",
              "       [         12,    13178878],\n",
              "       [          0,           0],\n",
              "       [         75,     6545345],\n",
              "       [          5,         680],\n",
              "       [         79,    26694076],\n",
              "       [         97,  1712294532],\n",
              "       [         29,   148417994],\n",
              "       [         10,     2436000],\n",
              "       [         16,     1081363],\n",
              "       [          1,      152400],\n",
              "       [         12,     4468724],\n",
              "       [          4,    10236082],\n",
              "       [          0,           0],\n",
              "       [          1,      200000],\n",
              "       [         11,     2568498],\n",
              "       [         47,    17624958],\n",
              "       [          2,      120000],\n",
              "       [          1,           0],\n",
              "       [          2,      168187],\n",
              "       [         51,     5129258],\n",
              "       [          1,       23500],\n",
              "       [          5,       24360],\n",
              "       [         25,     6179767],\n",
              "       [          2,    25295111],\n",
              "       [          1,       50000],\n",
              "       [         52,   220194256],\n",
              "       [         11,       89950],\n",
              "       [         93,  1442910450],\n",
              "       [        164,   128732991],\n",
              "       [          0,           0],\n",
              "       [        138,    19380441],\n",
              "       [        233, 10367055560],\n",
              "       [         20,     3082764],\n",
              "       [          1,        2000],\n",
              "       [          1,       40326],\n",
              "       [          9,     1204426],\n",
              "       [          0,           0],\n",
              "       [          1,         500],\n",
              "       [         56,      211214],\n",
              "       [          1,         200],\n",
              "       [          4,       25000],\n",
              "       [         26,    27378334],\n",
              "       [         22,      124300],\n",
              "       [          4,      114600],\n",
              "       [        530,  5683668939],\n",
              "       [          0,           0],\n",
              "       [          1,         100],\n",
              "       [         45,    10698514],\n",
              "       [          8,    16276332],\n",
              "       [        247,   328494656],\n",
              "       [        381,   400806433],\n",
              "       [        163,    82090978],\n",
              "       [          1,      835710],\n",
              "       [          2,       38000],\n",
              "       [          4,        1090],\n",
              "       [         74,   311612494],\n",
              "       [       1035,   302826794],\n",
              "       [          4,       40000],\n",
              "       [         36,     1016842],\n",
              "       [          1,      980252],\n",
              "       [          6,     1651744],\n",
              "       [          1,       19095],\n",
              "       [          7,     7138908],\n",
              "       [          3,      416830],\n",
              "       [          8,      763712],\n",
              "       [        127,     7955792],\n",
              "       [        276,   568345940],\n",
              "       [          2,         325],\n",
              "       [          1,      102921],\n",
              "       [          1,      258002],\n",
              "       [          2,         300],\n",
              "       [         22,    15245884],\n",
              "       [         22,    36309464],\n",
              "       [         52,    15942000],\n",
              "       [         75,   155526715],\n",
              "       [          5,      270000],\n",
              "       [          7,           0],\n",
              "       [          1,      980252],\n",
              "       [          1,    17935844],\n",
              "       [         48,   445496477],\n",
              "       [          2,       48000],\n",
              "       [          1,      200000],\n",
              "       [          4,      299000],\n",
              "       [         10,     5319096],\n",
              "       [        233,   163674924],\n",
              "       [         23,     1205152],\n",
              "       [        554,  9121454779],\n",
              "       [          2,         600],\n",
              "       [          1,       10000],\n",
              "       [          1,         560],\n",
              "       [          1,       64000],\n",
              "       [       6817,  6916343885],\n",
              "       [         33,    14411446],\n",
              "       [          1,       70000],\n",
              "       [         12,    14182398],\n",
              "       [          1,       10000],\n",
              "       [          0,           0],\n",
              "       [        109,  1394316194],\n",
              "       [          4,     1181162],\n",
              "       [         12,      732167],\n",
              "       [          1,         500],\n",
              "       [          1,           0],\n",
              "       [          7,      903630],\n",
              "       [          1,     5308952],\n",
              "       [          0,           0],\n",
              "       [         17,    41425988],\n",
              "       [          7,   135801252],\n",
              "       [          0,           0],\n",
              "       [          0,           0],\n",
              "       [          5,      356000],\n",
              "       [          1,           0],\n",
              "       [          0,           0],\n",
              "       [         93,    16731998],\n",
              "       [          0,           0],\n",
              "       [          3,     3243012],\n",
              "       [          4,      100000],\n",
              "       [          0,           0],\n",
              "       [          2,       19400],\n",
              "       [         43,     9088856],\n",
              "       [         57,     5110055],\n",
              "       [         14,    47662446],\n",
              "       [          1,       10000],\n",
              "       [          1,         600],\n",
              "       [        122,    51640612],\n",
              "       [         11,    58667646],\n",
              "       [          1,        1560],\n",
              "       [        335,   190244886],\n",
              "       [         10,    59457370],\n",
              "       [          1,      100000],\n",
              "       [          1,           0],\n",
              "       [          8,      284820],\n",
              "       [          2,          90],\n",
              "       [          1,       19596],\n",
              "       [         13,    99549062],\n",
              "       [          2,       50000],\n",
              "       [          3,        1260],\n",
              "       [          0,           0],\n",
              "       [          1,      200000],\n",
              "       [          5,        6550],\n",
              "       [         12,     8139792],\n",
              "       [         28,    23471205],\n",
              "       [         12,    22492906],\n",
              "       [         49,   647917017],\n",
              "       [          2,       71000],\n",
              "       [          0,           0],\n",
              "       [          1,       15000],\n",
              "       [          1,      400000],\n",
              "       [         24,     1151658],\n",
              "       [         14,       75201],\n",
              "       [          5,      178000],\n",
              "       [         45,   230577132],\n",
              "       [        145, 13676572874],\n",
              "       [          2,      219110],\n",
              "       [         36,     2602418],\n",
              "       [          1,           0],\n",
              "       [         20,    16837128],\n",
              "       [          8,      508497],\n",
              "       [          4,     1508356],\n",
              "       [          0,           0],\n",
              "       [          2,         520],\n",
              "       [        348,    49620166],\n",
              "       [          1,         100],\n",
              "       [          0,           0],\n",
              "       [          6,         430],\n",
              "       [          1,        2000],\n",
              "       [          4,    12184624],\n",
              "       [          1,         120],\n",
              "       [          4,       63068],\n",
              "       [        126,    13752562],\n",
              "       [          1,      100000],\n",
              "       [          5,      108068],\n",
              "       [          2,       20500],\n",
              "       [          2,          80],\n",
              "       [          1,         290],\n",
              "       [          2,        8625],\n",
              "       [          2,        1175],\n",
              "       [         10,    27736058],\n",
              "       [          2,         195],\n",
              "       [         10,     2143540],\n",
              "       [         10,       51250],\n",
              "       [          1,        2000],\n",
              "       [          7,       79660],\n",
              "       [          2,          60],\n",
              "       [          0,           0],\n",
              "       [          2,     2268190],\n",
              "       [         13,     4134244],\n",
              "       [        352,    26081314],\n",
              "       [         45,   400170830],\n",
              "       [          2,   107609476],\n",
              "       [          9,     1000888],\n",
              "       [         12,   293286752],\n",
              "       [          3,       97850],\n",
              "       [         15,      108650],\n",
              "       [         48,   296522526],\n",
              "       [          2,     8110128],\n",
              "       [          0,           0],\n",
              "       [          2,       92000],\n",
              "       [          0,           0],\n",
              "       [          7,        2700],\n",
              "       [          2,           0],\n",
              "       [          1,      140000],\n",
              "       [          6,     5448768],\n",
              "       [         16,      504059],\n",
              "       [          1,         120],\n",
              "       [          3,       32499],\n",
              "       [          2,      865530],\n",
              "       [         38,   167346173],\n",
              "       [          1,       93600],\n",
              "       [         29,      458349],\n",
              "       [        642,   445852187],\n",
              "       [          3,         910],\n",
              "       [         84,   821656012],\n",
              "       [          2,         280],\n",
              "       [          1,         440],\n",
              "       [          3,         280],\n",
              "       [         11,      296299],\n",
              "       [          0,           0],\n",
              "       [         27,     3601749],\n",
              "       [         65,   729812974],\n",
              "       [          9,     1500000],\n",
              "       [          9,        7500],\n",
              "       [         78,    17913779],\n",
              "       [         84,    33958065],\n",
              "       [          1,       22286],\n",
              "       [          2,         200],\n",
              "       [         18,    26340758],\n",
              "       [          9,     3286658],\n",
              "       [         12,    65648350],\n",
              "       [          2,         185],\n",
              "       [          1,         390],\n",
              "       [          1,         370],\n",
              "       [         34,     5483955],\n",
              "       [          1,          50],\n",
              "       [         54,     8163623],\n",
              "       [        152,     6197785],\n",
              "       [          0,           0],\n",
              "       [         15,     7404116],\n",
              "       [          2,     4043364],\n",
              "       [          1,     2000000],\n",
              "       [        109,   231288039],\n",
              "       [       1467,  1146024537],\n",
              "       [          2,      103040],\n",
              "       [          1,     5882050],\n",
              "       [          1,      800000],\n",
              "       [          1,        1000],\n",
              "       [          7,     5081492],\n",
              "       [         76,    31788622],\n",
              "       [          1,      200000],\n",
              "       [         18,    50439114],\n",
              "       [         27,    12169560],\n",
              "       [         39,      800431],\n",
              "       [        441,    10892610],\n",
              "       [          1,       24000],\n",
              "       [        333,   598598832],\n",
              "       [          3,      752235],\n",
              "       [          2,         150],\n",
              "       [        199,   113025107],\n",
              "       [          1,         800],\n",
              "       [          2,        1520],\n",
              "       [          3,      340000],\n",
              "       [       6566, 10942810097],\n",
              "       [          5,      517041],\n",
              "       [          2,        6500],\n",
              "       [          9,      342800],\n",
              "       [         29,    33651855],\n",
              "       [        140,     2370026],\n",
              "       [          8,     4213334],\n",
              "       [          1,       50500],\n",
              "       [          2,      155868],\n",
              "       [         20,    15584162],\n",
              "       [         25,    75415769],\n",
              "       [          4,       20730],\n",
              "       [         43,    44795588],\n",
              "       [          9,       60000],\n",
              "       [          2,         650],\n",
              "       [          2,         490],\n",
              "       [          1,       10000],\n",
              "       [         56,   951798725],\n",
              "       [          4,    51549632],\n",
              "       [        141,    11431165],\n",
              "       [          1,       29906],\n",
              "       [         18,    20185711],\n",
              "       [        377,  1087108117],\n",
              "       [          1,         225],\n",
              "       [         11,      144526],\n",
              "       [         63,   140182548],\n",
              "       [          2,         140],\n",
              "       [          1,       10000],\n",
              "       [          1,         183],\n",
              "       [         12,    26793866],\n",
              "       [         22,     3213755],\n",
              "       [          1,       10000],\n",
              "       [          4,     2000000],\n",
              "       [          3,      100000],\n",
              "       [         12,     1587644],\n",
              "       [         28,      243168],\n",
              "       [          2,        1640],\n",
              "       [         21,      388750],\n",
              "       [          0,           0],\n",
              "       [         60,     2496036],\n",
              "       [          7,       19810],\n",
              "       [          3,       30000],\n",
              "       [         92,  1614325845],\n",
              "       [          7,      327592],\n",
              "       [          6,      450372],\n",
              "       [          3,     1589114],\n",
              "       [          5,     4918202],\n",
              "       [         20,    93741010],\n",
              "       [          2,         700],\n",
              "       [         11,     1267326],\n",
              "       [         13,      549132],\n",
              "       [          0,           0],\n",
              "       [          1,       21000],\n",
              "       [         66,    10171094],\n",
              "       [          6,      123330],\n",
              "       [          0,           0],\n",
              "       [          2,      750324],\n",
              "       [          2,           0],\n",
              "       [          4,    10959954],\n",
              "       [         78,   772286031],\n",
              "       [        413,   128495205],\n",
              "       [         39,      598562],\n",
              "       [        709,  2197631226],\n",
              "       [       1425,   394944158],\n",
              "       [         62,   112706484],\n",
              "       [       2640,   388691322],\n",
              "       [        336,  1665748729],\n",
              "       [        396,   481068889],\n",
              "       [          1,       60000],\n",
              "       [          3,     7125896],\n",
              "       [        191,    16917064],\n",
              "       [        287,    31009778],\n",
              "       [         87,    81841638],\n",
              "       [          2,      116000],\n",
              "       [        185,    29323183],\n",
              "       [         82,  1336610090],\n",
              "       [          0,           0],\n",
              "       [          4,      117242],\n",
              "       [          3,         620],\n",
              "       [          1,       50400],\n",
              "       [         29,     7854946],\n",
              "       [         12,       98330],\n",
              "       [          2,          70],\n",
              "       [          2,       50000],\n",
              "       [         11,      983754],\n",
              "       [         13,     2030000],\n",
              "       [         12,     4231382],\n",
              "       [         62,    90662341],\n",
              "       [          0,           0],\n",
              "       [         17,    12770322],\n",
              "       [          3,      604792],\n",
              "       [          1,          64],\n",
              "       [          4,      121000],\n",
              "       [        112,     3000920],\n",
              "       [         30,    23974928],\n",
              "       [         24,     5586383],\n",
              "       [         22,    27908874],\n",
              "       [        130,   448509686],\n",
              "       [          3,      348779],\n",
              "       [         38,     7489132],\n",
              "       [         60,   107051888],\n",
              "       [          0,           0],\n",
              "       [          1,       86000],\n",
              "       [          2,    96144294],\n",
              "       [         18,    93261670],\n",
              "       [          8,       32720],\n",
              "       [         64,    35622244],\n",
              "       [         14,      517000],\n",
              "       [         76,   309865814],\n",
              "       [          5,      200500],\n",
              "       [          5,     2008000],\n",
              "       [          0,           0],\n",
              "       [          8,       21990],\n",
              "       [        181,   313609574],\n",
              "       [          1,      100000],\n",
              "       [          3,      260500],\n",
              "       [          4,      765939],\n",
              "       [          1,        1000],\n",
              "       [          1,         100],\n",
              "       [         25,   387508570],\n",
              "       [          1,           0],\n",
              "       [          7,    35280154],\n",
              "       [         28,   417937543],\n",
              "       [         40,    10916666],\n",
              "       [         11,       11680],\n",
              "       [          1,         860],\n",
              "       [          4,    20995564],\n",
              "       [          8,     2435504],\n",
              "       [          1,         280],\n",
              "       [          2,         140],\n",
              "       [         17,      848072],\n",
              "       [          8,      513056],\n",
              "       [          1,       40812],\n",
              "       [         48,    20717392],\n",
              "       [         27,    12085708],\n",
              "       [          3,    44435324],\n",
              "       [          1,       20500],\n",
              "       [          5,       15647],\n",
              "       [        145,    45830677],\n",
              "       [         94,   168707933],\n",
              "       [          1,         330],\n",
              "       [          0,           0],\n",
              "       [         89,     9799000],\n",
              "       [         54,   111482778],\n",
              "       [          1,         100],\n",
              "       [          2,        1000],\n",
              "       [          3,      500000],\n",
              "       [          1,       90470],\n",
              "       [          0,           0],\n",
              "       [          1,        2500],\n",
              "       [         36,   171224706],\n",
              "       [          3,           0],\n",
              "       [          3,     1348486],\n",
              "       [       2828,  3680407459],\n",
              "       [          8,      158000],\n",
              "       [          1,     9247014],\n",
              "       [          1,          70]])"
            ]
          },
          "metadata": {},
          "execution_count": 27
        }
      ]
    },
    {
      "cell_type": "code",
      "source": [
        "y_test"
      ],
      "metadata": {
        "colab": {
          "base_uri": "https://localhost:8080/"
        },
        "id": "y-KlRLGnpnEr",
        "outputId": "4e1a95c4-6c99-471c-b17a-378953a69d7a"
      },
      "execution_count": 28,
      "outputs": [
        {
          "output_type": "execute_result",
          "data": {
            "text/plain": [
              "array([5, 5, 5, 5, 5, 4, 5, 5, 5, 5, 5, 4, 5, 5, 5, 5, 5, 5, 0, 3, 5, 0,\n",
              "       5, 5, 4, 5, 5, 5, 5, 5, 5, 3, 3, 5, 4, 5, 5, 4, 5, 2, 5, 5, 5, 3,\n",
              "       3, 5, 0, 5, 0, 5, 5, 5, 5, 5, 5, 1, 5, 4, 5, 0, 5, 5, 1, 5, 3, 5,\n",
              "       5, 4, 3, 5, 1, 5, 5, 2, 4, 4, 5, 5, 4, 5, 5, 5, 0, 5, 5, 3, 5, 5,\n",
              "       5, 3, 5, 5, 3, 5, 5, 5, 5, 1, 5, 5, 5, 0, 1, 5, 4, 0, 3, 5, 3, 5,\n",
              "       5, 4, 3, 5, 3, 4, 0, 3, 5, 0, 5, 5, 4, 5, 1, 5, 5, 3, 1, 5, 4, 5,\n",
              "       5, 0, 5, 5, 5, 3, 0, 5, 4, 4, 5, 5, 0, 5, 0, 0, 5, 5, 5, 5, 4, 0,\n",
              "       5, 4, 0, 5])"
            ]
          },
          "metadata": {},
          "execution_count": 28
        }
      ]
    },
    {
      "cell_type": "markdown",
      "source": [
        "Melatih model Naive Bayes di set Pelatihan"
      ],
      "metadata": {
        "id": "EK9VUKcZpvES"
      }
    },
    {
      "cell_type": "code",
      "source": [
        "from sklearn.naive_bayes import GaussianNB\n",
        "classifier = GaussianNB()\n",
        "classifier.fit(x_train, y_train)"
      ],
      "metadata": {
        "colab": {
          "base_uri": "https://localhost:8080/",
          "height": 74
        },
        "id": "jZ-kcVI0pwRQ",
        "outputId": "d817c3d3-84c8-48da-cea9-5108e616287e"
      },
      "execution_count": 29,
      "outputs": [
        {
          "output_type": "execute_result",
          "data": {
            "text/plain": [
              "GaussianNB()"
            ],
            "text/html": [
              "<style>#sk-container-id-2 {color: black;background-color: white;}#sk-container-id-2 pre{padding: 0;}#sk-container-id-2 div.sk-toggleable {background-color: white;}#sk-container-id-2 label.sk-toggleable__label {cursor: pointer;display: block;width: 100%;margin-bottom: 0;padding: 0.3em;box-sizing: border-box;text-align: center;}#sk-container-id-2 label.sk-toggleable__label-arrow:before {content: \"▸\";float: left;margin-right: 0.25em;color: #696969;}#sk-container-id-2 label.sk-toggleable__label-arrow:hover:before {color: black;}#sk-container-id-2 div.sk-estimator:hover label.sk-toggleable__label-arrow:before {color: black;}#sk-container-id-2 div.sk-toggleable__content {max-height: 0;max-width: 0;overflow: hidden;text-align: left;background-color: #f0f8ff;}#sk-container-id-2 div.sk-toggleable__content pre {margin: 0.2em;color: black;border-radius: 0.25em;background-color: #f0f8ff;}#sk-container-id-2 input.sk-toggleable__control:checked~div.sk-toggleable__content {max-height: 200px;max-width: 100%;overflow: auto;}#sk-container-id-2 input.sk-toggleable__control:checked~label.sk-toggleable__label-arrow:before {content: \"▾\";}#sk-container-id-2 div.sk-estimator input.sk-toggleable__control:checked~label.sk-toggleable__label {background-color: #d4ebff;}#sk-container-id-2 div.sk-label input.sk-toggleable__control:checked~label.sk-toggleable__label {background-color: #d4ebff;}#sk-container-id-2 input.sk-hidden--visually {border: 0;clip: rect(1px 1px 1px 1px);clip: rect(1px, 1px, 1px, 1px);height: 1px;margin: -1px;overflow: hidden;padding: 0;position: absolute;width: 1px;}#sk-container-id-2 div.sk-estimator {font-family: monospace;background-color: #f0f8ff;border: 1px dotted black;border-radius: 0.25em;box-sizing: border-box;margin-bottom: 0.5em;}#sk-container-id-2 div.sk-estimator:hover {background-color: #d4ebff;}#sk-container-id-2 div.sk-parallel-item::after {content: \"\";width: 100%;border-bottom: 1px solid gray;flex-grow: 1;}#sk-container-id-2 div.sk-label:hover label.sk-toggleable__label {background-color: #d4ebff;}#sk-container-id-2 div.sk-serial::before {content: \"\";position: absolute;border-left: 1px solid gray;box-sizing: border-box;top: 0;bottom: 0;left: 50%;z-index: 0;}#sk-container-id-2 div.sk-serial {display: flex;flex-direction: column;align-items: center;background-color: white;padding-right: 0.2em;padding-left: 0.2em;position: relative;}#sk-container-id-2 div.sk-item {position: relative;z-index: 1;}#sk-container-id-2 div.sk-parallel {display: flex;align-items: stretch;justify-content: center;background-color: white;position: relative;}#sk-container-id-2 div.sk-item::before, #sk-container-id-2 div.sk-parallel-item::before {content: \"\";position: absolute;border-left: 1px solid gray;box-sizing: border-box;top: 0;bottom: 0;left: 50%;z-index: -1;}#sk-container-id-2 div.sk-parallel-item {display: flex;flex-direction: column;z-index: 1;position: relative;background-color: white;}#sk-container-id-2 div.sk-parallel-item:first-child::after {align-self: flex-end;width: 50%;}#sk-container-id-2 div.sk-parallel-item:last-child::after {align-self: flex-start;width: 50%;}#sk-container-id-2 div.sk-parallel-item:only-child::after {width: 0;}#sk-container-id-2 div.sk-dashed-wrapped {border: 1px dashed gray;margin: 0 0.4em 0.5em 0.4em;box-sizing: border-box;padding-bottom: 0.4em;background-color: white;}#sk-container-id-2 div.sk-label label {font-family: monospace;font-weight: bold;display: inline-block;line-height: 1.2em;}#sk-container-id-2 div.sk-label-container {text-align: center;}#sk-container-id-2 div.sk-container {/* jupyter's `normalize.less` sets `[hidden] { display: none; }` but bootstrap.min.css set `[hidden] { display: none !important; }` so we also need the `!important` here to be able to override the default hidden behavior on the sphinx rendered scikit-learn.org. See: https://github.com/scikit-learn/scikit-learn/issues/21755 */display: inline-block !important;position: relative;}#sk-container-id-2 div.sk-text-repr-fallback {display: none;}</style><div id=\"sk-container-id-2\" class=\"sk-top-container\"><div class=\"sk-text-repr-fallback\"><pre>GaussianNB()</pre><b>In a Jupyter environment, please rerun this cell to show the HTML representation or trust the notebook. <br />On GitHub, the HTML representation is unable to render, please try loading this page with nbviewer.org.</b></div><div class=\"sk-container\" hidden><div class=\"sk-item\"><div class=\"sk-estimator sk-toggleable\"><input class=\"sk-toggleable__control sk-hidden--visually\" id=\"sk-estimator-id-2\" type=\"checkbox\" checked><label for=\"sk-estimator-id-2\" class=\"sk-toggleable__label sk-toggleable__label-arrow\">GaussianNB</label><div class=\"sk-toggleable__content\"><pre>GaussianNB()</pre></div></div></div></div></div>"
            ]
          },
          "metadata": {},
          "execution_count": 29
        }
      ]
    },
    {
      "cell_type": "markdown",
      "source": [
        "\n",
        "Memprediksi hasil Test set"
      ],
      "metadata": {
        "id": "5wvECbD3p66X"
      }
    },
    {
      "cell_type": "code",
      "source": [
        "y_pred = classifier.predict(x_test)"
      ],
      "metadata": {
        "id": "A1t93mHnp7p0"
      },
      "execution_count": 30,
      "outputs": []
    },
    {
      "cell_type": "code",
      "source": [
        "y_pred"
      ],
      "metadata": {
        "colab": {
          "base_uri": "https://localhost:8080/"
        },
        "id": "wqM1QShyqAbt",
        "outputId": "89316cfd-5778-4b6c-eeca-595f6b4c2523"
      },
      "execution_count": 31,
      "outputs": [
        {
          "output_type": "execute_result",
          "data": {
            "text/plain": [
              "array([5, 5, 0, 5, 0, 4, 0, 0, 5, 0, 0, 4, 5, 0, 5, 0, 0, 0, 0, 3, 5, 0,\n",
              "       5, 5, 4, 5, 0, 5, 0, 0, 0, 3, 3, 0, 4, 0, 5, 4, 0, 2, 5, 0, 0, 3,\n",
              "       3, 0, 0, 0, 0, 0, 0, 0, 5, 0, 0, 1, 5, 4, 5, 0, 5, 5, 1, 0, 3, 0,\n",
              "       5, 4, 3, 0, 1, 0, 5, 2, 4, 4, 0, 5, 4, 0, 5, 5, 0, 5, 5, 3, 5, 4,\n",
              "       0, 3, 0, 4, 3, 5, 0, 0, 0, 1, 0, 0, 0, 0, 1, 0, 4, 0, 3, 0, 3, 5,\n",
              "       0, 4, 3, 5, 3, 4, 0, 3, 0, 0, 5, 5, 4, 0, 1, 5, 5, 3, 1, 5, 4, 5,\n",
              "       0, 0, 0, 5, 0, 3, 0, 0, 4, 4, 0, 0, 0, 5, 0, 0, 0, 0, 5, 0, 4, 0,\n",
              "       0, 4, 0, 0])"
            ]
          },
          "metadata": {},
          "execution_count": 31
        }
      ]
    },
    {
      "cell_type": "code",
      "source": [
        "y_test"
      ],
      "metadata": {
        "colab": {
          "base_uri": "https://localhost:8080/"
        },
        "id": "P7rwU5HUqC5v",
        "outputId": "0d51a312-94b8-45d4-bf8f-0854202d91f2"
      },
      "execution_count": 32,
      "outputs": [
        {
          "output_type": "execute_result",
          "data": {
            "text/plain": [
              "array([5, 5, 5, 5, 5, 4, 5, 5, 5, 5, 5, 4, 5, 5, 5, 5, 5, 5, 0, 3, 5, 0,\n",
              "       5, 5, 4, 5, 5, 5, 5, 5, 5, 3, 3, 5, 4, 5, 5, 4, 5, 2, 5, 5, 5, 3,\n",
              "       3, 5, 0, 5, 0, 5, 5, 5, 5, 5, 5, 1, 5, 4, 5, 0, 5, 5, 1, 5, 3, 5,\n",
              "       5, 4, 3, 5, 1, 5, 5, 2, 4, 4, 5, 5, 4, 5, 5, 5, 0, 5, 5, 3, 5, 5,\n",
              "       5, 3, 5, 5, 3, 5, 5, 5, 5, 1, 5, 5, 5, 0, 1, 5, 4, 0, 3, 5, 3, 5,\n",
              "       5, 4, 3, 5, 3, 4, 0, 3, 5, 0, 5, 5, 4, 5, 1, 5, 5, 3, 1, 5, 4, 5,\n",
              "       5, 0, 5, 5, 5, 3, 0, 5, 4, 4, 5, 5, 0, 5, 0, 0, 5, 5, 5, 5, 4, 0,\n",
              "       5, 4, 0, 5])"
            ]
          },
          "metadata": {},
          "execution_count": 32
        }
      ]
    },
    {
      "cell_type": "markdown",
      "source": [
        "**Confusion Matrix**\n",
        "merupakan matriks yang berisi ketepatan prediksi."
      ],
      "metadata": {
        "id": "vOM96I8yqHdV"
      }
    },
    {
      "cell_type": "code",
      "source": [
        "from sklearn.metrics import confusion_matrix\n",
        "cm = confusion_matrix(y_test, y_pred)\n",
        "print(cm)"
      ],
      "metadata": {
        "colab": {
          "base_uri": "https://localhost:8080/"
        },
        "id": "w36y1FY5qKkA",
        "outputId": "a105f53a-3eac-49da-ae59-eaf6d2daf54f"
      },
      "execution_count": 33,
      "outputs": [
        {
          "output_type": "stream",
          "name": "stdout",
          "text": [
            "[[17  0  0  0  0  0]\n",
            " [ 0  7  0  0  0  0]\n",
            " [ 0  0  2  0  0  0]\n",
            " [ 0  0  0 17  0  0]\n",
            " [ 0  0  0  0 19  0]\n",
            " [56  0  0  0  2 38]]\n"
          ]
        }
      ]
    },
    {
      "cell_type": "code",
      "source": [
        "import seaborn as sns\n",
        "import matplotlib.pyplot as plt\n",
        "f, ax = plt.subplots(figsize=(8,5))\n",
        "sns.heatmap(confusion_matrix(y_test, y_pred), annot=True, fmt=\".0f\", ax=ax)\n",
        "plt.xlabel(\"y_pred\")\n",
        "plt.ylabel(\"y_true\")\n",
        "plt.show()"
      ],
      "metadata": {
        "colab": {
          "base_uri": "https://localhost:8080/",
          "height": 465
        },
        "id": "tKZV72XAqPUk",
        "outputId": "135c30f1-ac8b-4a3e-d71f-698906dd89e6"
      },
      "execution_count": 34,
      "outputs": [
        {
          "output_type": "display_data",
          "data": {
            "text/plain": [
              "<Figure size 800x500 with 2 Axes>"
            ],
            "image/png": "[encoded data removed]"
          },
          "metadata": {}
        }
      ]
    },
    {
      "cell_type": "markdown",
      "source": [
        "**Classification Report**"
      ],
      "metadata": {
        "id": "WNCjFKx6CFS1"
      }
    },
    {
      "cell_type": "code",
      "source": [
        "from sklearn.metrics import classification_report\n",
        "print (classification_report(y_test, y_pred))"
      ],
      "metadata": {
        "colab": {
          "base_uri": "https://localhost:8080/"
        },
        "id": "BMYLURpJqR5K",
        "outputId": "1b4a8d12-11db-458a-aced-ea05e51d05d9"
      },
      "execution_count": 35,
      "outputs": [
        {
          "output_type": "stream",
          "name": "stdout",
          "text": [
            "              precision    recall  f1-score   support\n",
            "\n",
            "           0       0.23      1.00      0.38        17\n",
            "           1       1.00      1.00      1.00         7\n",
            "           2       1.00      1.00      1.00         2\n",
            "           3       1.00      1.00      1.00        17\n",
            "           4       0.90      1.00      0.95        19\n",
            "           5       1.00      0.40      0.57        96\n",
            "\n",
            "    accuracy                           0.63       158\n",
            "   macro avg       0.86      0.90      0.82       158\n",
            "weighted avg       0.91      0.63      0.66       158\n",
            "\n"
          ]
        }
      ]
    }
  ]
}